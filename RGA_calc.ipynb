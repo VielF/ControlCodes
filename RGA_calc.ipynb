{
  "nbformat": 4,
  "nbformat_minor": 0,
  "metadata": {
    "colab": {
      "name": "RGA calc",
      "provenance": [],
      "collapsed_sections": [],
      "authorship_tag": "ABX9TyOKxHaMdEPcC37QXyZm8qSI",
      "include_colab_link": true
    },
    "kernelspec": {
      "name": "python3",
      "display_name": "Python 3"
    },
    "language_info": {
      "name": "python"
    }
  },
  "cells": [
    {
      "cell_type": "markdown",
      "metadata": {
        "id": "view-in-github",
        "colab_type": "text"
      },
      "source": [
        "<a href=\"https://colab.research.google.com/github/VielF/ControlCodes/blob/main/RGA_calc.ipynb\" target=\"_parent\"><img src=\"https://colab.research.google.com/assets/colab-badge.svg\" alt=\"Open In Colab\"/></a>"
      ]
    },
    {
      "cell_type": "code",
      "execution_count": 1,
      "metadata": {
        "id": "2ofd56f8P7Tf"
      },
      "outputs": [],
      "source": [
        "import numpy as np"
      ]
    },
    {
      "cell_type": "code",
      "source": [
        "#cria uma matriz \n",
        "G_0 = [[1,0.125],[0.125, 1]]\n"
      ],
      "metadata": {
        "id": "th5o13w0QRrG"
      },
      "execution_count": 2,
      "outputs": []
    },
    {
      "cell_type": "code",
      "source": [
        "def matrix_cofactor(matrix):\n",
        "    try:\n",
        "        determinant = np.linalg.det(matrix)\n",
        "        if(determinant!=0):\n",
        "            cofactor = None\n",
        "            cofactor = np.linalg.inv(matrix).T * determinant\n",
        "            # return cofactor matrix of the given matrix\n",
        "            return cofactor\n",
        "        else:\n",
        "            raise Exception(\"singular matrix\")\n",
        "    except Exception as e:\n",
        "        print(\"could not find cofactor matrix due to\",e)"
      ],
      "metadata": {
        "id": "ylgz3zWkREo5"
      },
      "execution_count": 4,
      "outputs": []
    },
    {
      "cell_type": "code",
      "source": [
        "Cofac = matrix_cofactor(G_0) #gera a matriz de cofatores\n",
        "det = np.linalg.det(G_0) #gera o determinante da matriz\n",
        "\n",
        "G_0_inverse = Cofac/det #gera G_0 inverso"
      ],
      "metadata": {
        "id": "KqtRaloTRFn9"
      },
      "execution_count": 5,
      "outputs": []
    },
    {
      "cell_type": "code",
      "source": [
        "G_0_T = G_0_inverse.T #gera o G_0 inverso e transposto"
      ],
      "metadata": {
        "id": "nBKQ3jM0RrfZ"
      },
      "execution_count": 6,
      "outputs": []
    },
    {
      "cell_type": "code",
      "source": [
        "print(G_0*G_0_T) #printa a RGA"
      ],
      "metadata": {
        "colab": {
          "base_uri": "https://localhost:8080/"
        },
        "id": "hr2fgfOrRymy",
        "outputId": "234bc9b7-5c1f-415e-c892-5e4cd7013055"
      },
      "execution_count": 7,
      "outputs": [
        {
          "output_type": "stream",
          "name": "stdout",
          "text": [
            "[[ 1.01587302 -0.01587302]\n",
            " [-0.01587302  1.01587302]]\n"
          ]
        }
      ]
    }
  ]
}